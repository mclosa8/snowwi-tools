{
 "cells": [
  {
   "cell_type": "code",
   "execution_count": 1,
   "id": "ba24ad4e-e639-4998-9e74-6374784700da",
   "metadata": {},
   "outputs": [
    {
     "data": {
      "application/javascript": "\ntry {\nrequire(['notebook/js/codecell'], function(codecell) {\n  codecell.CodeCell.options_default.highlight_modes[\n      'magic_text/x-csrc'] = {'reg':[/^%%microblaze/]};\n  Jupyter.notebook.events.one('kernel_ready.Kernel', function(){\n      Jupyter.notebook.get_cells().map(function(cell){\n          if (cell.cell_type == 'code'){ cell.auto_highlight(); } }) ;\n  });\n});\n} catch (e) {};\n"
     },
     "metadata": {},
     "output_type": "display_data"
    },
    {
     "data": {
      "application/javascript": "\ntry {\nrequire(['notebook/js/codecell'], function(codecell) {\n  codecell.CodeCell.options_default.highlight_modes[\n      'magic_text/x-csrc'] = {'reg':[/^%%pybind11/]};\n  Jupyter.notebook.events.one('kernel_ready.Kernel', function(){\n      Jupyter.notebook.get_cells().map(function(cell){\n          if (cell.cell_type == 'code'){ cell.auto_highlight(); } }) ;\n  });\n});\n} catch (e) {};\n"
     },
     "metadata": {},
     "output_type": "display_data"
    }
   ],
   "source": [
    "from pynq import Overlay\n",
    "from pynq.overlays.base import BaseOverlay\n",
    "import time\n",
    "import numpy as np\n",
    "from pynq import allocate"
   ]
  },
  {
   "cell_type": "code",
   "execution_count": 2,
   "id": "4063ded7-8a21-438e-8d09-7868c9b92ab9",
   "metadata": {},
   "outputs": [],
   "source": [
    "ol = BaseOverlay('bitstreams/mission_4adc_re3.bit')"
   ]
  },
  {
   "cell_type": "code",
   "execution_count": 3,
   "id": "1eca6a7d-a228-4f5c-8477-70e49d6c2f06",
   "metadata": {},
   "outputs": [],
   "source": [
    "#ol?\n",
    "burst_gate = ol.loop_hier.burst_rec.burst_gate_ctrl.register_map.GPIO_DATA\n",
    "packager = ol.loop_hier.burst_rec.packager_ctrl.register_map.GPIO_DATA\n",
    "\n",
    "trig1 = ol.trigger_hier.double_trig_hier.trig1_ctrl.register_map.GPIO_DATA #Master Trigger\n",
    "trig2 = ol.trigger_hier.double_trig_hier.trig2_ctrl.register_map.GPIO_DATA #DAC Trigger\n",
    "trig3 = ol.trigger_hier.double_trig_hier.trig3_ctrl.register_map.GPIO_DATA #ADC Trigger\n",
    "trig4 = ol.trigger_hier.double_trig_hier.trig4_ctrl.register_map.GPIO_DATA #Trigger3\n",
    "trig5 = ol.trigger_hier.double_trig_hier.trig5_ctrl.register_map.GPIO_DATA #Trigger4\n",
    "\n",
    "pps = ol.trigger_hier.double_trig_hier.pps_ctrl.register_map.GPIO_DATA #pps\n",
    "\n",
    "\n",
    "dac_gate = ol.loop_hier.ring_transmit.dac_gate_ctrl.register_map.GPIO_DATA\n",
    "ringer = ol.loop_hier.ring_transmit.ringer_ctrl.register_map.GPIO_DATA\n",
    "\n",
    "pmod = ol.gpio_hier.pmod_ctrl.register_map.GPIO_DATA"
   ]
  },
  {
   "cell_type": "code",
   "execution_count": 4,
   "id": "db3af503-cdf1-4ec1-99cb-41ba6ae22451",
   "metadata": {},
   "outputs": [],
   "source": [
    "ol.cmac.internal_loopback = 1\n",
    "ol.cmac.start()"
   ]
  },
  {
   "cell_type": "code",
   "execution_count": 5,
   "id": "7a20df25-9092-4742-b552-a232690d298b",
   "metadata": {},
   "outputs": [],
   "source": [
    "single_burst = False"
   ]
  },
  {
   "cell_type": "markdown",
   "id": "3838bd3a",
   "metadata": {},
   "source": [
    "# Transmit & trigger parameters"
   ]
  },
  {
   "cell_type": "markdown",
   "id": "8216343e",
   "metadata": {},
   "source": [
    "## Modify the following cell to adjust chirp length"
   ]
  },
  {
   "cell_type": "code",
   "execution_count": null,
   "id": "d63a6a49",
   "metadata": {},
   "outputs": [],
   "source": [
    "# 3000 m. agl\n",
    "chirp_length = 16.5e-6 # in seconds\n",
    "rx_window_delay = 24e-6 # in seconds\n",
    "\n",
    "# 2000 m. agl\n",
    "chirp_length = 14e-6  # in seconds\n",
    "rx_window_delay = 21.5e-6  # in seconds"
   ]
  },
  {
   "cell_type": "code",
   "execution_count": 7,
   "id": "dcd61ea1-ea7f-47e6-bce4-5b168254382d",
   "metadata": {},
   "outputs": [],
   "source": [
    "def init_recv(pcksize=50, num_pcks_per_burst=250, header_size=4, wait=300, data_option = 1):\n",
    "    burstsize = pcksize*num_pcks_per_burst\n",
    "    burst_gate[15:1] = burstsize\n",
    "    burst_gate[0] = 0\n",
    "    burst_gate[16] = data_option\n",
    "    packager[15:1] = pcksize\n",
    "    packager[31:16] = wait\n",
    "\n",
    "def start_burst(use_gps = 0):\n",
    "    trig3[0] = 1 # enable_trigger2\n",
    "    pps[0] = use_gps\n",
    "    packager[0] = 1 #start transmission\n",
    "    burst_gate[0] = 1 #start transmission\n",
    "\n",
    "def end_burst(use_gps = 0):\n",
    "    trig3[0] = 0 # enable_trigger2\n",
    "    pps[0] = 0\n",
    "    time.sleep(0.5)\n",
    "    packager[0] = 0\n",
    "    burst_gate[0] = 0\n",
    "\n"
   ]
  },
  {
   "cell_type": "code",
   "execution_count": 8,
   "id": "18741fae-bc42-4c7b-a404-8f891820e12a",
   "metadata": {},
   "outputs": [],
   "source": [
    "# Transmit Control\n",
    "def clear_start_fifo():\n",
    "    ringer[1] = 0 #Disable\n",
    "    ringer[2] = 0 #Set to PS mode\n",
    "    ringer[0] = 1 #Burn\n",
    "    time.sleep(0.5)\n",
    "    ringer[0] = 0 #Stop Burn\n",
    "    \n",
    "\n",
    "def clear_ring_fifo():\n",
    "    ringer[1] = 0 #Disable\n",
    "    ringer[2] = 1 #Set to PL mode\n",
    "    dac_gate[0] = 0 #Stop Transmission\n",
    "    dac_gate[1] = 1 #Burn\n",
    "    time.sleep(0.5)\n",
    "    dac_gate[1] = 0 #Stop Burn\n",
    "\n",
    "\n",
    "def load_ring(burst_length = 201):\n",
    "    ringer[0] = 0 #Stop Burn\n",
    "    ringer[1] = 1 #Enable\n",
    "    ringer[2] = 0 #Route to PS Mode\n",
    "    if not single_burst:\n",
    "        print(\"Sending data to DMA\")\n",
    "        ol.dma.sendchannel.transfer(dma_buf_in)\n",
    "        ol.dma.sendchannel.wait()\n",
    "        time.sleep(0.5)\n",
    "    else:\n",
    "        burst[0] = 0\n",
    "        burst[15:1] = burst_length\n",
    "        burst[0] = 1\n",
    "        time.sleep(1)\n",
    "        burst[0] = 0\n",
    "        \n",
    "    \n",
    "def ring_mode():\n",
    "    ringer[1] = 0 #Disable\n",
    "    ringer[2] = 1 #Set to PL Mode\n",
    "    ringer[1] = 1 #Enable\n",
    "    dac_gate[0] = 1 #Enable Transmission\n",
    "    \n",
    "def transmit():\n",
    "    #external trigs\n",
    "    trig4[0] = 1\n",
    "    trig5[0] = 1\n",
    "    #dac trig\n",
    "    trig2[0] = 0\n",
    "    dac_gate[0] = 1\n",
    "    trig2[0] = 1\n",
    "\n",
    "def start_transmit():\n",
    "    clear_start_fifo()\n",
    "    clear_ring_fifo()\n",
    "    load_ring()\n",
    "    ring_mode()\n",
    "    transmit()\n",
    "\n",
    "def stop_transmit():\n",
    "    #external trigs\n",
    "    trig4[0] = 0\n",
    "    trig5[0] = 0\n",
    "    #dac trig\n",
    "    trig2[0] = 0\n",
    "    dac_gate[0] = 0"
   ]
  },
  {
   "cell_type": "code",
   "execution_count": 9,
   "id": "35d03b71-6c20-45ae-a21f-b2ac3a06038c",
   "metadata": {},
   "outputs": [],
   "source": [
    "def generate_chirp(num_samples, f0, f1, sample_rate):\n",
    "    \"\"\"\n",
    "    Generates a chirp signal.\n",
    "    \n",
    "    Parameters:\n",
    "    num_samples (int): Number of samples in the chirp signal.\n",
    "    f0 (float): Starting frequency of the chirp in Hz.\n",
    "    f1 (float): Ending frequency of-len the chirp in Hz.\n",
    "    sample_rate (int): Sampling rate in samples per second.\n",
    "    \n",
    "    Returns:\n",
    "    numpy.ndarray: The generated chirp signal as a numpy array of type int16.\n",
    "    \"\"\"\n",
    "    t = np.linspace(0, num_samples / sample_rate, num_samples)\n",
    "    k = (f1 - f0) / (num_samples / sample_rate)\n",
    "    chirp_signal = np.cos(2 * np.pi * (f0 * t + 0.5 * k * t**2))\n",
    "    \n",
    "    # Normalize to the range of int16\n",
    "    chirp_signal = np.int16(chirp_signal / np.max(np.abs(chirp_signal)) * (2**14 - 1)) # CHANGE BACK TO 14\n",
    "    \n",
    "    return chirp_signal\n",
    "\n",
    "# Parameters\n",
    "f0 = 100e6\n",
    "f1 = 180e6\n",
    "sample_rate = 153.6e6 * 16# 245.6 Mhz\n",
    "\n",
    "signal_length = int(64*50*16 * 2  * 2)\n",
    "\n",
    "#Formula: int(sample_rate * pulse_width)\n",
    "# pulse_width = 20 #in micro\n",
    "# n_samples = int(sample_rate * pulse_width)\n",
    "# n_samples = 49120 #20micro\n",
    "# n_samples = 27016 #11 micro\n",
    "# n_samples = 40524 # 16.5u s\n",
    "\n",
    "n_samples = int(sample_rate * chirp_length) \n",
    "\n",
    "chirp_signal = generate_chirp(n_samples, f0, f1, sample_rate)\n",
    "chirp_signal = np.concatenate([chirp_signal, np.zeros((signal_length-n_samples*4)//4, np.int16)])\n",
    "\n",
    "\n",
    "\n"
   ]
  },
  {
   "cell_type": "code",
   "execution_count": 10,
   "id": "e567fbfc-6f86-4366-966f-7ad4ca2b7ccd",
   "metadata": {},
   "outputs": [
    {
     "data": {
      "text/plain": [
       "51200"
      ]
     },
     "execution_count": 10,
     "metadata": {},
     "output_type": "execute_result"
    }
   ],
   "source": [
    "len(chirp_signal)"
   ]
  },
  {
   "cell_type": "code",
   "execution_count": 11,
   "id": "d7f8945b-1860-4121-b6d2-04da3a42a284",
   "metadata": {},
   "outputs": [],
   "source": [
    "sine16_wave = chirp_signal\n",
    "\n",
    "# Extract the lower 8 bits (least significant byte)\n",
    "lower_bytes = sine16_wave & 0xFF\n",
    "\n",
    "# Extract the upper 8 bits (most significant byte), then shift them to the right\n",
    "upper_bytes = (sine16_wave >> 8) & 0xFF\n",
    "\n",
    "# Combine lower and upper bytes into a uint8 array\n",
    "# uint8_array = np.column_stack((upper_bytes, lower_bytes)).astype(np.uint8)\n",
    "uint8_array = np.column_stack((lower_bytes, upper_bytes)).astype(np.uint8)\n",
    "\n",
    "\n",
    "# Flatten the array to get a single array of uint8 elements\n",
    "sine_wave = uint8_array.flatten()\n",
    "\n",
    "# Assume sine_wave and zeros_array are the two arrays of equal length\n",
    "zeros_array = np.zeros_like(sine_wave, dtype=np.uint8)\n",
    "\n",
    "# Create an empty array of double the length of one of the arrays\n",
    "interleaved_array = np.empty(sine_wave.size + zeros_array.size, dtype=np.uint8)\n",
    "\n",
    "# Fill the interleaved array\n",
    "m = 32\n",
    "interleaved_array = np.reshape(interleaved_array, (-1,m))\n",
    "sine_wave = np.reshape(sine_wave, (-1, m))\n",
    "zeros_array = np.reshape(zeros_array, (-1,m))\n",
    "interleaved_array[0::2] = sine_wave\n",
    "interleaved_array[1::2] = zeros_array\n",
    "\n",
    "signal = interleaved_array.flatten()"
   ]
  },
  {
   "cell_type": "code",
   "execution_count": 12,
   "id": "a4b4a0fc-e27f-4efa-91a2-83017c4a4635",
   "metadata": {},
   "outputs": [],
   "source": [
    "# signal = np.concatenate([np.zeros_like(signal[::8]), signal, np.zeros_like(signal[::64])])  #delay too small\n",
    "signal = np.concatenate([np.zeros_like(signal[::4]), signal, np.zeros_like(signal[::64])]) #delay large enough\n",
    "signal_length = len(signal) "
   ]
  },
  {
   "cell_type": "code",
   "execution_count": 13,
   "id": "4a4728e8-ff91-4277-b4ca-c55ff0c240f5",
   "metadata": {},
   "outputs": [],
   "source": [
    "dma_buf_in = allocate(signal.shape[0], dtype=np.uint8)\n",
    "dma_buf_in[:] = signal\n",
    "single_burst = False\n",
    "# dac_gate[2] = 1\n",
    "# dac_gate[3] = 0\n",
    "# dac_gate[31:4] = (signal_length//32 - 2) // 2\n",
    "dac_gate[31:2] = (signal_length//32 - 2) // 2"
   ]
  },
  {
   "cell_type": "code",
   "execution_count": 14,
   "id": "94243d7f-900b-4a37-8137-531b598fa690",
   "metadata": {},
   "outputs": [],
   "source": [
    "def init_master_trig(period = 153600): #-4\n",
    "    trig1[31:8] = period\n",
    "    trig1[7:2] = 3\n",
    "    trig1[1] = 1\n",
    "    trig1[0] = 1\n",
    "\n",
    "# One digital value increment:\n",
    "#    (cycles_high) = (2^4)/153.6e6 = 104.167 ns\n",
    "#    (delay) = (2^5)/153.6e6 = 208.33 ns\n",
    "\n",
    "cycles_high = 2**4 / 153.6e6 # ns/samp\n",
    "delay = 2**5 / 153.6e6 # ns/samp\n",
    "\n",
    "# Calculate trigger delays based on system specifications\n",
    "ku_buffer = 2e-6\n",
    "inherent_delay = 5e-6\n",
    "capella_buffer = 15e-6\n",
    "\n",
    "delay_tx = capella_buffer - inherent_delay\n",
    "delay_tx_samp = int(np.ceil(delay_tx / delay))\n",
    "\n",
    "delay_rx = delay_tx + rx_window_delay\n",
    "delay_rx_samp = int(np.ceil(delay_rx / delay))\n",
    "\n",
    "delay_ku = capella_buffer - ku_buffer\n",
    "delay_ku_samp = int(np.ceil(delay_ku / delay))\n",
    "\n",
    "# Calculate trigger high time based on system specifications\n",
    "c_len = capella_buffer * 2 + chirp_length\n",
    "c_len_samp = int(np.ceil(c_len / cycles_high))\n",
    "\n",
    "ku_len = 2 * ku_buffer + chirp_length\n",
    "ku_len_samp = int(np.ceil(ku_len / cycles_high))\n",
    "\n",
    "def init_export_trigs(\n",
    "        delay1 = delay_tx_samp, high1 = 240,           # DAC - high = default value\n",
    "        delay2 = delay_rx_samp, high2 = 240,           # RCV window - high = default value\n",
    "        delay3 = delay_ku_samp, high3 = ku_len_samp,   # Ku\n",
    "        delay4 = 0, high4 = c_len_samp):               # C & Capella - Reference delay\n",
    "    \n",
    "    # DAC trigger - Synced with chirp\n",
    "    trig2[31:13] = delay1 #Dac Trigger, Cycles Delayed\n",
    "    trig2[12:1] = high1 # Dac Trigger, Cycles High\n",
    "    \n",
    "    # RCV window\n",
    "    trig3[31:13] = delay2 #Export Trigger3, Cycles Delayed\n",
    "    trig3[12:1] = high2 # Export Trigger3, Cycles High\n",
    "    \n",
    "    # Ku trigger\n",
    "    trig4[31:13] = delay3 #Export Trigger4, Cycles Delayed\n",
    "    trig4[12:1] = high3 # Export Trigger4, Cycles High\n",
    "    \n",
    "    # C/Capella trigger\n",
    "    trig5[31:13] = delay4 #Export Trigger5, Cycles Delayed\n",
    "    trig5[12:1] = high4 # Export Trigger5, Cycles High\n",
    "\n",
    "    \n",
    "def test_exports(active = True, gps = True):\n",
    "    if gps:\n",
    "        pmod[3:0] = 0\n",
    "        pmod[7:4] = 0\n",
    "        pmod[0] = 1\n",
    "        pmod[10:8] = 2\n",
    "    else:\n",
    "        pmod[7:0] = 0\n",
    "        pmod[10:8] = 7\n",
    "    pmod[14:11] = 0\n",
    "    # pmod[11] = 1\n",
    "    # pmod[12] = 1\n",
    "    pmod[13] = 1 # Invert trigger\n",
    "    # pmod[14] = 1\n",
    "    \n"
   ]
  },
  {
   "cell_type": "code",
   "execution_count": 15,
   "id": "7afadd09-9034-4d87-b843-12fdbf931e7e",
   "metadata": {},
   "outputs": [],
   "source": [
    "#Init Trig Hierarchy\n",
    "init_master_trig()\n",
    "init_export_trigs()\n",
    "test_exports()"
   ]
  },
  {
   "cell_type": "markdown",
   "id": "8d8863ee-0315-4635-8912-bd2a8fb2b46f",
   "metadata": {
    "tags": []
   },
   "source": [
    "# Run until here for setup"
   ]
  },
  {
   "cell_type": "markdown",
   "id": "b82ec8f3-a38e-49d9-ac9f-3b8058fb34ec",
   "metadata": {},
   "source": [
    "## Enable / disable GPS (1 = enabled, 0 = disabled) "
   ]
  },
  {
   "cell_type": "code",
   "execution_count": 16,
   "id": "350ecd0a-dd0d-4f1f-970d-902134759991",
   "metadata": {},
   "outputs": [],
   "source": [
    "using_gps = 1 #1 is enabled, 0 is disabled"
   ]
  },
  {
   "cell_type": "markdown",
   "id": "2402b6a3-efa1-4efb-8a5e-688e00382f7b",
   "metadata": {
    "tags": []
   },
   "source": [
    "## Run next cell for transmit and \"receive\""
   ]
  },
  {
   "cell_type": "code",
   "execution_count": null,
   "id": "8660097c-a8ca-43e9-ab6f-fcef55d58ead",
   "metadata": {},
   "outputs": [
    {
     "name": "stdout",
     "output_type": "stream",
     "text": [
      "INITIALIZING RECIEVE\n",
      "INIT RECV COMPLETE\n"
     ]
    },
    {
     "name": "stdout",
     "output_type": "stream",
     "text": [
      "Type 'run' to start the collection, or 'exit' to quit:  run\n"
     ]
    },
    {
     "name": "stdout",
     "output_type": "stream",
     "text": [
      "STARTING TRANSMIT\n",
      "Sending data to DMA\n",
      "Sending data to DMA\n",
      "TRANSMIT STARTED\n",
      "STARTING RECV\n",
      "RECV STARTED\n",
      "Elapsed time: 212.58 seconds (Type 'stop' to end) "
     ]
    }
   ],
   "source": [
    "import time\n",
    "import threading\n",
    "\n",
    "def track_user_input(stop_event):\n",
    "    while not stop_event.is_set():\n",
    "        user_input = input()\n",
    "        if user_input.strip().lower() == 'stop':\n",
    "            stop_event.set()\n",
    "\n",
    "def live_elapsed_time():\n",
    "    start_time = time.time()\n",
    "    stop_event = threading.Event()\n",
    "\n",
    "    input_thread = threading.Thread(target=track_user_input, args=(stop_event,))\n",
    "    input_thread.daemon = True\n",
    "    input_thread.start()\n",
    "\n",
    "    try:\n",
    "        while not stop_event.is_set():\n",
    "            elapsed_time = time.time() - start_time\n",
    "            print(f\"\\rElapsed time: {elapsed_time:.2f} seconds (Type 'stop' to end) \", end=\"\")\n",
    "            time.sleep(0.1)\n",
    "    except KeyboardInterrupt:\n",
    "        pass    \n",
    "    print(\"STOPPING TRANSMIT\")\n",
    "    stop_transmit()\n",
    "    print(\"STOPPING RECV\")\n",
    "    end_burst(use_gps = using_gps) \n",
    "    print(\"\\nStopped!\")\n",
    "\n",
    "def main():\n",
    "    time.sleep(0.5)\n",
    "    print(\"INITIALIZING RECIEVE\")\n",
    "    init_recv()\n",
    "    print(\"INIT RECV COMPLETE\")\n",
    "    while True:\n",
    "        user_input = input(\"Type 'run' to start the collection, or 'exit' to quit: \").strip().lower()\n",
    "        #RUN DATA COLLECTION\n",
    "        if user_input == 'run':\n",
    "            print(\"STARTING TRANSMIT\")\n",
    "            start_transmit()\n",
    "            stop_transmit()\n",
    "            start_transmit()\n",
    "            print(\"TRANSMIT STARTED\")\n",
    "            print(\"STARTING RECV\")\n",
    "            start_burst(use_gps = using_gps)\n",
    "            print(\"RECV STARTED\")\n",
    "            live_elapsed_time()\n",
    "        elif user_input == 'exit':\n",
    "            break\n",
    "        else:\n",
    "            print(\"Invalid input. Please type 'run' to start or 'exit' to quit.\")\n",
    "\n",
    "if __name__ == \"__main__\":\n",
    "    main()\n"
   ]
  },
  {
   "cell_type": "code",
   "execution_count": null,
   "id": "c97a8741-9c81-4422-9c47-8f53fa5a63b7",
   "metadata": {},
   "outputs": [],
   "source": [
    "# #Start Chirping\n",
    "# start_transmit()\n",
    "# stop_transmitru()\n",
    "# start_transmit()"
   ]
  },
  {
   "cell_type": "code",
   "execution_count": 19,
   "id": "c91a4a73-bec7-4af2-95f5-936febc253e6",
   "metadata": {},
   "outputs": [],
   "source": [
    "# #End Chirping\n",
    "# stop_transmit()\n"
   ]
  },
  {
   "cell_type": "code",
   "execution_count": 20,
   "id": "da6c026f-92df-45ad-a646-8d666a0e498a",
   "metadata": {},
   "outputs": [],
   "source": [
    "# #Receive for 5 seconds(make sure tcpdump is on\n",
    "# init_recv()\n",
    "# start_burst(use_gps = 0)\n",
    "# time.sleep(40)\n",
    "# end_burst(use_gps = 0) "
   ]
  },
  {
   "cell_type": "code",
   "execution_count": null,
   "id": "73b0803a-0261-49b6-86ea-bccf4ea25e23",
   "metadata": {},
   "outputs": [
    {
     "data": {
      "text/plain": [
       "{'tx': {'packets': 178224250,\n",
       "  'good_packets': 178224250,\n",
       "  'bytes': 605249553000,\n",
       "  'good_bytes': 605249553000,\n",
       "  'packets_large': 0,\n",
       "  'packets_small': 0,\n",
       "  'bad_fcs': 0,\n",
       "  'pause': 0,\n",
       "  'user_pause': 0},\n",
       " 'rx': {'packets': 178224250,\n",
       "  'good_packets': 0,\n",
       "  'bytes': 605249553000,\n",
       "  'good_bytes': 0,\n",
       "  'packets_large': 0,\n",
       "  'packets_small': 0,\n",
       "  'packets_undersize': 0,\n",
       "  'packets_fragmented': 0,\n",
       "  'packets_oversize': 0,\n",
       "  'packets_toolong': 0,\n",
       "  'packets_jabber': 0,\n",
       "  'bad_fcs': 0,\n",
       "  'packets_bad_fcs': 0,\n",
       "  'stomped_fcs': 0,\n",
       "  'pause': 0,\n",
       "  'user_pause': 0},\n",
       " 'cycle_count': 1561356838699}"
      ]
     },
     "execution_count": 22,
     "metadata": {},
     "output_type": "execute_result"
    }
   ],
   "source": [
    "ol.cmac.getStats()"
   ]
  },
  {
   "cell_type": "code",
   "execution_count": 22,
   "id": "2dd334df-236d-49d0-8f7a-7fe5fe8c095e",
   "metadata": {},
   "outputs": [],
   "source": [
    "# end_burst(use_gps = 0) "
   ]
  },
  {
   "cell_type": "code",
   "execution_count": 23,
   "id": "8df9c0d9-be43-4190-9173-f00be445d7b9",
   "metadata": {},
   "outputs": [],
   "source": [
    "# def generate_chirp(num_samples, f0, f1, sample_rate):\n",
    "#     \"\"\"\n",
    "#     Generates a chirp signal.\n",
    "    \n",
    "#     Parameters:\n",
    "#     num_samples (int): Number of samples in the chirp signal.\n",
    "#     f0 (float): Starting frequency of the chirp in Hz.\n",
    "#     f1 (float): Ending frequency of the chirp in Hz.\n",
    "#     sample_rate (int): Sampling rate in samples per second.\n",
    "    \n",
    "#     Returns:\n",
    "#     numpy.ndarray: The generated chirp signal as a numpy array of type int16.\n",
    "#     \"\"\"\n",
    "#     t = np.linspace(0, num_samples / sample_rate, num_samples)\n",
    "#     k = (f1 - f0) / (num_samples / sample_rate)\n",
    "#     chirp_signal = np.cos(2 * np.pi * (f0 * t + 0.5 * k * t**2))\n",
    "    \n",
    "#     # Normalize to the range of int16\n",
    "#     chirp_signal = np.int16(chirp_signal / np.max(np.abs(chirp_signal)) * (2**14 - 1)) # CHANGE BACK TO 14\n",
    "    \n",
    "#     return chirp_signal\n",
    "\n",
    "# # Parameters\n",
    "# # f0 = 100e6\n",
    "# # f1 = 180e6\n",
    "# # f0 = 220e6\n",
    "# # f1 = 300e6\n",
    "# f0 = 100e6\n",
    "# f1 = 180e6\n",
    "# sample_rate = 153.6e6 * 16# 156.3 MHz\n",
    "# # signal_length = 64*50*16 # ~5 micro\n",
    "# # signal_length = 64*50*16 * 2 # ~10 micro\n",
    "# # signal_length = 64*64*16 * 2 # Max width\n",
    "# # signal_length = 64*48*16*2\n",
    "# signal_length = int(64*50*16 * 2  * 2)\n",
    "# # signal_length = 64*50*16 * 2  * 2# ~20 micro\n",
    "# # signal_length_20micro = 64*50*16 * 2  * 2# ~20 micro\n",
    "\n",
    "# n_samples = signal_length//4  # Number of samples\n",
    "\n",
    "\n",
    "# chirp_signal = generate_chirp(n_samples, f0, f1, sample_rate)\n",
    "\n",
    "# # chirp_signal = np.concatenate([chirp_signal, np.zeros((signal_length_20micro-signal_length)//4, np.int16)])\n",
    "\n",
    "# # f0 = 220e6\n",
    "# # f1 = 300e6\n",
    "# # chirp_signal += generate_chirp(n_samples, f0, f1, sample_rate)\n",
    "\n",
    "# # f0 = 100e6\n",
    "# # f1 = 180e6\n",
    "# # chirp_signal += generate_chirp(n_samples, f0, f1, sample_rate)\n",
    "\n",
    "# # chirp_signal = chirp_signal[::-1]"
   ]
  }
 ],
 "metadata": {
  "kernelspec": {
   "display_name": "Python 3 (ipykernel)",
   "language": "python",
   "name": "python3"
  },
  "language_info": {
   "codemirror_mode": {
    "name": "ipython",
    "version": 3
   },
   "file_extension": ".py",
   "mimetype": "text/x-python",
   "name": "python",
   "nbconvert_exporter": "python",
   "pygments_lexer": "ipython3",
   "version": "3.10.4"
  }
 },
 "nbformat": 4,
 "nbformat_minor": 5
}
